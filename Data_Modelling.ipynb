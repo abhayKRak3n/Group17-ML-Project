{
 "cells": [
  {
   "cell_type": "markdown",
   "id": "8f233930",
   "metadata": {},
   "source": [
    "## Importing libraries and reading in data"
   ]
  },
  {
   "cell_type": "code",
   "execution_count": 64,
   "id": "d31c61c3",
   "metadata": {},
   "outputs": [],
   "source": [
    "import pandas as pd\n",
    "import numpy as np\n",
    "import seaborn as sns\n",
    "import matplotlib.pyplot as plt\n",
    "\n",
    "from sklearn.model_selection import train_test_split, GridSearchCV\n",
    "from sklearn.feature_extraction.text import CountVectorizer\n",
    "from sklearn.linear_model import LogisticRegression\n",
    "from sklearn.metrics import confusion_matrix\n",
    "from sklearn.naive_bayes import MultinomialNB\n",
    "#from sklearn.neighbors import KNeighborsClassifier\n",
    "from sklearn.metrics import classification_report\n",
    "\n",
    "import nltk\n",
    "from nltk.stem import WordNetLemmatizer\n",
    "lemmatizer = WordNetLemmatizer()\n",
    "\n",
    "%matplotlib inline"
   ]
  },
  {
   "cell_type": "code",
   "execution_count": 65,
   "id": "9a7e1b85",
   "metadata": {},
   "outputs": [
    {
     "data": {
      "text/html": [
       "<div>\n",
       "<style scoped>\n",
       "    .dataframe tbody tr th:only-of-type {\n",
       "        vertical-align: middle;\n",
       "    }\n",
       "\n",
       "    .dataframe tbody tr th {\n",
       "        vertical-align: top;\n",
       "    }\n",
       "\n",
       "    .dataframe thead th {\n",
       "        text-align: right;\n",
       "    }\n",
       "</style>\n",
       "<table border=\"1\" class=\"dataframe\">\n",
       "  <thead>\n",
       "    <tr style=\"text-align: right;\">\n",
       "      <th></th>\n",
       "      <th>selftext</th>\n",
       "      <th>subreddit</th>\n",
       "      <th>title</th>\n",
       "    </tr>\n",
       "  </thead>\n",
       "  <tbody>\n",
       "    <tr>\n",
       "      <th>0</th>\n",
       "      <td>\"It's A Little Fit Bunny.\"</td>\n",
       "      <td>1</td>\n",
       "      <td>Elton John has bought his pet rabbit a treadmill.</td>\n",
       "    </tr>\n",
       "    <tr>\n",
       "      <th>1</th>\n",
       "      <td>A Perfect Urkel</td>\n",
       "      <td>1</td>\n",
       "      <td>OK hear me out. Jaleel White. Maynard James Ke...</td>\n",
       "    </tr>\n",
       "    <tr>\n",
       "      <th>2</th>\n",
       "      <td>\"How do you determine whether or not an older ...</td>\n",
       "      <td>1</td>\n",
       "      <td>THE BATHTUB TEST: During a visit to my doctors...</td>\n",
       "    </tr>\n",
       "    <tr>\n",
       "      <th>3</th>\n",
       "      <td>A Luigi board!</td>\n",
       "      <td>1</td>\n",
       "      <td>How does the Italian plumber talk to spirits?</td>\n",
       "    </tr>\n",
       "    <tr>\n",
       "      <th>4</th>\n",
       "      <td>A quack-job.</td>\n",
       "      <td>1</td>\n",
       "      <td>What do you call a blowjob from someone preten...</td>\n",
       "    </tr>\n",
       "    <tr>\n",
       "      <th>...</th>\n",
       "      <td>...</td>\n",
       "      <td>...</td>\n",
       "      <td>...</td>\n",
       "    </tr>\n",
       "    <tr>\n",
       "      <th>3468</th>\n",
       "      <td>Without missing a beat, she replies with \"Buga...</td>\n",
       "      <td>0</td>\n",
       "      <td>Proud of my wife for this one. I'm playing a n...</td>\n",
       "    </tr>\n",
       "    <tr>\n",
       "      <th>3469</th>\n",
       "      <td>\\r\\n\\r\\n\\r\\n\\r\\n\\r\\n\\r\\n\\r\\nYee-Hanukkah\\r\\n\\r...</td>\n",
       "      <td>0</td>\n",
       "      <td>From my 10 year old daughter… What does a Jewi...</td>\n",
       "    </tr>\n",
       "    <tr>\n",
       "      <th>3470</th>\n",
       "      <td>‘I knead it for work.’</td>\n",
       "      <td>0</td>\n",
       "      <td>Baker to wife: ‘can you pick up some flour?’</td>\n",
       "    </tr>\n",
       "    <tr>\n",
       "      <th>3471</th>\n",
       "      <td>Wet.</td>\n",
       "      <td>0</td>\n",
       "      <td>What do you get when you cross a like and a ri...</td>\n",
       "    </tr>\n",
       "    <tr>\n",
       "      <th>3472</th>\n",
       "      <td>One’s going to get their lights knocked out, t...</td>\n",
       "      <td>0</td>\n",
       "      <td>What’s the difference between Mike Tyson’s nex...</td>\n",
       "    </tr>\n",
       "  </tbody>\n",
       "</table>\n",
       "<p>3473 rows × 3 columns</p>\n",
       "</div>"
      ],
      "text/plain": [
       "                                               selftext  subreddit  \\\n",
       "0                            \"It's A Little Fit Bunny.\"          1   \n",
       "1                                       A Perfect Urkel          1   \n",
       "2     \"How do you determine whether or not an older ...          1   \n",
       "3                                        A Luigi board!          1   \n",
       "4                                          A quack-job.          1   \n",
       "...                                                 ...        ...   \n",
       "3468  Without missing a beat, she replies with \"Buga...          0   \n",
       "3469  \\r\\n\\r\\n\\r\\n\\r\\n\\r\\n\\r\\n\\r\\nYee-Hanukkah\\r\\n\\r...          0   \n",
       "3470                             ‘I knead it for work.’          0   \n",
       "3471                                               Wet.          0   \n",
       "3472  One’s going to get their lights knocked out, t...          0   \n",
       "\n",
       "                                                  title  \n",
       "0     Elton John has bought his pet rabbit a treadmill.  \n",
       "1     OK hear me out. Jaleel White. Maynard James Ke...  \n",
       "2     THE BATHTUB TEST: During a visit to my doctors...  \n",
       "3         How does the Italian plumber talk to spirits?  \n",
       "4     What do you call a blowjob from someone preten...  \n",
       "...                                                 ...  \n",
       "3468  Proud of my wife for this one. I'm playing a n...  \n",
       "3469  From my 10 year old daughter… What does a Jewi...  \n",
       "3470       Baker to wife: ‘can you pick up some flour?’  \n",
       "3471  What do you get when you cross a like and a ri...  \n",
       "3472  What’s the difference between Mike Tyson’s nex...  \n",
       "\n",
       "[3473 rows x 3 columns]"
      ]
     },
     "execution_count": 65,
     "metadata": {},
     "output_type": "execute_result"
    }
   ],
   "source": [
    "reddit_posts_df = pd.read_csv('combinedData.csv')\n",
    "reddit_posts_df"
   ]
  },
  {
   "cell_type": "markdown",
   "id": "1483c5f7",
   "metadata": {},
   "source": [
    "### Creating a features list with text and title (X) and the subreddit as the target (Y)"
   ]
  },
  {
   "cell_type": "code",
   "execution_count": 66,
   "id": "4a7ca9b8",
   "metadata": {},
   "outputs": [],
   "source": [
    "features = ['selftext', 'title']\n",
    "X = reddit_posts_df[features]\n",
    "y = reddit_posts_df.subreddit"
   ]
  },
  {
   "cell_type": "code",
   "execution_count": 67,
   "id": "817569b3",
   "metadata": {},
   "outputs": [
    {
     "data": {
      "text/html": [
       "<div>\n",
       "<style scoped>\n",
       "    .dataframe tbody tr th:only-of-type {\n",
       "        vertical-align: middle;\n",
       "    }\n",
       "\n",
       "    .dataframe tbody tr th {\n",
       "        vertical-align: top;\n",
       "    }\n",
       "\n",
       "    .dataframe thead th {\n",
       "        text-align: right;\n",
       "    }\n",
       "</style>\n",
       "<table border=\"1\" class=\"dataframe\">\n",
       "  <thead>\n",
       "    <tr style=\"text-align: right;\">\n",
       "      <th></th>\n",
       "      <th>selftext</th>\n",
       "      <th>title</th>\n",
       "    </tr>\n",
       "  </thead>\n",
       "  <tbody>\n",
       "    <tr>\n",
       "      <th>0</th>\n",
       "      <td>\"It's A Little Fit Bunny.\"</td>\n",
       "      <td>Elton John has bought his pet rabbit a treadmill.</td>\n",
       "    </tr>\n",
       "    <tr>\n",
       "      <th>1</th>\n",
       "      <td>A Perfect Urkel</td>\n",
       "      <td>OK hear me out. Jaleel White. Maynard James Ke...</td>\n",
       "    </tr>\n",
       "    <tr>\n",
       "      <th>2</th>\n",
       "      <td>\"How do you determine whether or not an older ...</td>\n",
       "      <td>THE BATHTUB TEST: During a visit to my doctors...</td>\n",
       "    </tr>\n",
       "    <tr>\n",
       "      <th>3</th>\n",
       "      <td>A Luigi board!</td>\n",
       "      <td>How does the Italian plumber talk to spirits?</td>\n",
       "    </tr>\n",
       "    <tr>\n",
       "      <th>4</th>\n",
       "      <td>A quack-job.</td>\n",
       "      <td>What do you call a blowjob from someone preten...</td>\n",
       "    </tr>\n",
       "  </tbody>\n",
       "</table>\n",
       "</div>"
      ],
      "text/plain": [
       "                                            selftext  \\\n",
       "0                         \"It's A Little Fit Bunny.\"   \n",
       "1                                    A Perfect Urkel   \n",
       "2  \"How do you determine whether or not an older ...   \n",
       "3                                     A Luigi board!   \n",
       "4                                       A quack-job.   \n",
       "\n",
       "                                               title  \n",
       "0  Elton John has bought his pet rabbit a treadmill.  \n",
       "1  OK hear me out. Jaleel White. Maynard James Ke...  \n",
       "2  THE BATHTUB TEST: During a visit to my doctors...  \n",
       "3      How does the Italian plumber talk to spirits?  \n",
       "4  What do you call a blowjob from someone preten...  "
      ]
     },
     "execution_count": 67,
     "metadata": {},
     "output_type": "execute_result"
    }
   ],
   "source": [
    "X.head()"
   ]
  },
  {
   "cell_type": "code",
   "execution_count": 68,
   "id": "58b90ac5",
   "metadata": {},
   "outputs": [],
   "source": [
    "X_train, X_test, y_train, y_test = train_test_split(X,y,random_state=101,test_size=0.3,stratify=y)"
   ]
  },
  {
   "cell_type": "markdown",
   "id": "acb272d8",
   "metadata": {},
   "source": [
    "## Cleaning data\n",
    "### Using a count vectorizer to remove english stop words, strip ascii accents and clean any noise from text/title data"
   ]
  },
  {
   "cell_type": "code",
   "execution_count": 69,
   "id": "86190460",
   "metadata": {},
   "outputs": [],
   "source": [
    "cv_text = CountVectorizer(stop_words='english', strip_accents = 'ascii', ngram_range=(1, 6), min_df=.03) #0.30,0.95\n",
    "cv_title = CountVectorizer(stop_words='english', strip_accents = 'ascii', ngram_range=(1, 3), min_df=.01)"
   ]
  },
  {
   "cell_type": "markdown",
   "id": "acc76d82",
   "metadata": {},
   "source": [
    "### Splitting data further into seperate text and title dataframes"
   ]
  },
  {
   "cell_type": "code",
   "execution_count": 70,
   "id": "1854b0fc",
   "metadata": {},
   "outputs": [],
   "source": [
    "X_train_text = cv_text.fit_transform(X_train.selftext.values.astype('U'))\n",
    "X_train_title = cv_title.fit_transform(X_train.title)\n",
    "\n",
    "X_test_text = cv_text.transform(X_test.selftext.values.astype('U'))\n",
    "X_test_title = cv_title.transform(X_test.title)\n",
    "#x = v.fit_transform(df['Review'].values.astype('U'))\n",
    "#print(X_test_text)"
   ]
  },
  {
   "cell_type": "code",
   "execution_count": 71,
   "id": "694ef52d",
   "metadata": {},
   "outputs": [
    {
     "data": {
      "text/plain": [
       "(2431, 13)"
      ]
     },
     "execution_count": 71,
     "metadata": {},
     "output_type": "execute_result"
    }
   ],
   "source": [
    "X_train_text_df = pd.DataFrame(X_train_text.todense(), columns=[x+'_selftext' for x in cv_text.get_feature_names_out()])\n",
    "X_train_text_df.shape"
   ]
  },
  {
   "cell_type": "code",
   "execution_count": 72,
   "id": "f9cce461",
   "metadata": {},
   "outputs": [
    {
     "name": "stderr",
     "output_type": "stream",
     "text": [
      "C:\\Users\\Imoesi\\AppData\\Local\\Programs\\Python\\Python310\\lib\\site-packages\\sklearn\\utils\\deprecation.py:87: FutureWarning: Function get_feature_names is deprecated; get_feature_names is deprecated in 1.0 and will be removed in 1.2. Please use get_feature_names_out instead.\n",
      "  warnings.warn(msg, category=FutureWarning)\n"
     ]
    },
    {
     "data": {
      "text/plain": [
       "(2431, 44)"
      ]
     },
     "execution_count": 72,
     "metadata": {},
     "output_type": "execute_result"
    }
   ],
   "source": [
    "X_train_title_df = pd.DataFrame(X_train_title.todense(), columns=[y+'_title' for y in cv_title.get_feature_names()])\n",
    "X_train_title_df.shape"
   ]
  },
  {
   "cell_type": "code",
   "execution_count": 73,
   "id": "f8817226",
   "metadata": {},
   "outputs": [
    {
     "data": {
      "text/plain": [
       "(1042, 13)"
      ]
     },
     "execution_count": 73,
     "metadata": {},
     "output_type": "execute_result"
    }
   ],
   "source": [
    "X_test_text_df = pd.DataFrame(X_test_text.todense(), columns=[x+'_selftext' for x in cv_text.get_feature_names()])\n",
    "X_test_text_df.shape"
   ]
  },
  {
   "cell_type": "code",
   "execution_count": 74,
   "id": "641f96c3",
   "metadata": {},
   "outputs": [
    {
     "data": {
      "text/plain": [
       "(1042, 44)"
      ]
     },
     "execution_count": 74,
     "metadata": {},
     "output_type": "execute_result"
    }
   ],
   "source": [
    "X_test_title_df = pd.DataFrame(X_test_title.todense(), columns=[y+'_title' for y in cv_title.get_feature_names()])\n",
    "X_test_title_df.shape"
   ]
  },
  {
   "cell_type": "markdown",
   "id": "be0217e7",
   "metadata": {},
   "source": [
    "### Concatenating both training and testing data again"
   ]
  },
  {
   "cell_type": "code",
   "execution_count": 75,
   "id": "b185f7f8",
   "metadata": {},
   "outputs": [
    {
     "data": {
      "text/plain": [
       "(2431, 57)"
      ]
     },
     "execution_count": 75,
     "metadata": {},
     "output_type": "execute_result"
    }
   ],
   "source": [
    "vecced_train_reddit_posts = pd.concat([X_train_text_df, X_train_title_df], axis=1)\n",
    "vecced_test_reddit_posts = pd.concat([X_test_text_df, X_test_title_df], axis=1)\n",
    "vecced_train_reddit_posts.shape"
   ]
  },
  {
   "cell_type": "code",
   "execution_count": 76,
   "id": "ef35b555",
   "metadata": {},
   "outputs": [
    {
     "data": {
      "text/plain": [
       "0"
      ]
     },
     "execution_count": 76,
     "metadata": {},
     "output_type": "execute_result"
    }
   ],
   "source": [
    "# making sure no null values in data\n",
    "vecced_train_reddit_posts.isnull().sum().sum()"
   ]
  },
  {
   "cell_type": "markdown",
   "id": "b7cef0e4",
   "metadata": {},
   "source": [
    "## Logistic regression model"
   ]
  },
  {
   "cell_type": "code",
   "execution_count": 77,
   "id": "137e48f9",
   "metadata": {},
   "outputs": [],
   "source": [
    "def lr_model(model):\n",
    "    \n",
    "    if model == 'lr_1':\n",
    "        lr_1_params = {\n",
    "            'penalty': ['l1'], 'C': [1, 1.5, 2, 2.5],\n",
    "            'class_weight': ['balanced'], 'warm_start': [True, False],\n",
    "            'random_state': [101], 'solver': ['liblinear']}\n",
    "        \n",
    "        M = GridSearchCV(LogisticRegression(), lr_1_params, cv = 5, verbose = 1, n_jobs = -1)\n",
    "        \n",
    "    elif model == 'lr_2':\n",
    "        lr_2_params = {'penalty': ['l2'], 'C': [1, 1.5, 2, 2.5], \n",
    "            'class_weight': ['balanced'], 'warm_start': [True, False],            \n",
    "            'random_state': [101], 'solver': ['lbfgs', 'liblinear']}\n",
    "        \n",
    "        M = GridSearchCV(LogisticRegression(), lr_2_params, cv = 5, verbose = 1, n_jobs = -1)\n",
    "\n",
    "    else:\n",
    "        print('Error, wrong lr penalty')\n",
    "        \n",
    "    M.fit(vecced_train_reddit_posts.values, y_train) \n",
    "    print(f'Training score = {M.score(vecced_train_reddit_posts.values, y_train)}')\n",
    "    print(f'Testing score = {M.score(vecced_test_reddit_posts.values, y_test)}')\n",
    "    \n",
    "    predictions = M.predict(vecced_test_reddit_posts.values)\n",
    "    #predictions = M.predict(X_test)\n",
    "    print('--------')\n",
    "    print(confusion_matrix(y_test, predictions))\n",
    "    print(classification_report(y_test,predictions))\n",
    "    print(f'best parameters = {M.best_params_}')\n"
   ]
  },
  {
   "cell_type": "code",
   "execution_count": 78,
   "id": "2772fb5a",
   "metadata": {},
   "outputs": [
    {
     "name": "stdout",
     "output_type": "stream",
     "text": [
      "Fitting 5 folds for each of 8 candidates, totalling 40 fits\n",
      "Training score = 0.6219662690250926\n",
      "Testing score = 0.6180422264875239\n",
      "--------\n",
      "[[424 100]\n",
      " [298 220]]\n",
      "              precision    recall  f1-score   support\n",
      "\n",
      "           0       0.59      0.81      0.68       524\n",
      "           1       0.69      0.42      0.53       518\n",
      "\n",
      "    accuracy                           0.62      1042\n",
      "   macro avg       0.64      0.62      0.60      1042\n",
      "weighted avg       0.64      0.62      0.60      1042\n",
      "\n",
      "best parameters = {'C': 1.5, 'class_weight': 'balanced', 'penalty': 'l1', 'random_state': 101, 'solver': 'liblinear', 'warm_start': True}\n"
     ]
    }
   ],
   "source": [
    "lr_model('lr_1')"
   ]
  },
  {
   "cell_type": "code",
   "execution_count": 79,
   "id": "0004b10d",
   "metadata": {},
   "outputs": [
    {
     "name": "stdout",
     "output_type": "stream",
     "text": [
      "Fitting 5 folds for each of 16 candidates, totalling 80 fits\n",
      "Training score = 0.6227889757301522\n",
      "Testing score = 0.6228406909788867\n",
      "--------\n",
      "[[424 100]\n",
      " [293 225]]\n",
      "              precision    recall  f1-score   support\n",
      "\n",
      "           0       0.59      0.81      0.68       524\n",
      "           1       0.69      0.43      0.53       518\n",
      "\n",
      "    accuracy                           0.62      1042\n",
      "   macro avg       0.64      0.62      0.61      1042\n",
      "weighted avg       0.64      0.62      0.61      1042\n",
      "\n",
      "best parameters = {'C': 2, 'class_weight': 'balanced', 'penalty': 'l2', 'random_state': 101, 'solver': 'lbfgs', 'warm_start': True}\n"
     ]
    }
   ],
   "source": [
    "lr_model('lr_2')"
   ]
  },
  {
   "cell_type": "code",
   "execution_count": 80,
   "id": "b6995fff",
   "metadata": {},
   "outputs": [],
   "source": [
    "def naiveBias(model):\n",
    "    if model == 'mn_1':\n",
    "        \n",
    "        mn_params = {\n",
    "            'fit_prior': [True],\n",
    "            'alpha': [0, 0.5, 1]}\n",
    "        \n",
    "        M = GridSearchCV(MultinomialNB(), mn_params, cv = 5, verbose = 1, n_jobs = -1)\n",
    "        \n",
    "    elif model == 'mn_2':\n",
    "        \n",
    "        mn_params = {\n",
    "            'fit_prior': [False],\n",
    "            'alpha': [0, 0.5, 1]}\n",
    "        \n",
    "        M = GridSearchCV(MultinomialNB(), mn_params, cv = 5, verbose = 1, n_jobs = -1)\n",
    "        \n",
    "    else:\n",
    "        print('There is an error.')\n",
    "        \n",
    "    M.fit(vecced_train_reddit_posts.values, y_train)\n",
    "     \n",
    "    print(f'Train score = {M.score(vecced_train_reddit_posts.values, y_train)}')\n",
    "    print(f'Test score = {M.score(vecced_test_reddit_posts.values, y_test)}')\n",
    "    \n",
    "    predictions = M.predict(vecced_test_reddit_posts.values)\n",
    "    print('--------')\n",
    "    print(confusion_matrix(y_test, predictions))\n",
    "    print(f'Best params = {M.best_params_}')"
   ]
  },
  {
   "cell_type": "code",
   "execution_count": 81,
   "id": "37c8ea6c",
   "metadata": {},
   "outputs": [
    {
     "name": "stdout",
     "output_type": "stream",
     "text": [
      "Fitting 5 folds for each of 3 candidates, totalling 15 fits\n",
      "Train score = 0.6075689016865488\n",
      "Test score = 0.6209213051823417\n",
      "--------\n",
      "[[463  61]\n",
      " [334 184]]\n",
      "Best params = {'alpha': 1, 'fit_prior': True}\n"
     ]
    }
   ],
   "source": [
    "naiveBias('mn_1')"
   ]
  },
  {
   "cell_type": "code",
   "execution_count": 82,
   "id": "c77632e8",
   "metadata": {},
   "outputs": [
    {
     "name": "stdout",
     "output_type": "stream",
     "text": [
      "Fitting 5 folds for each of 3 candidates, totalling 15 fits\n",
      "Train score = 0.6071575483340189\n",
      "Test score = 0.6209213051823417\n",
      "--------\n",
      "[[463  61]\n",
      " [334 184]]\n",
      "Best params = {'alpha': 0.5, 'fit_prior': False}\n"
     ]
    }
   ],
   "source": [
    "naiveBias('mn_2')"
   ]
  }
 ],
 "metadata": {
  "kernelspec": {
   "display_name": "Python 3",
   "language": "python",
   "name": "python3"
  },
  "language_info": {
   "codemirror_mode": {
    "name": "ipython",
    "version": 3
   },
   "file_extension": ".py",
   "mimetype": "text/x-python",
   "name": "python",
   "nbconvert_exporter": "python",
   "pygments_lexer": "ipython3",
   "version": "3.10.0"
  }
 },
 "nbformat": 4,
 "nbformat_minor": 5
}
