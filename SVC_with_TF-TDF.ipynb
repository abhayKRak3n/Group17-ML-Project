{
 "cells": [
  {
   "cell_type": "code",
   "execution_count": 4,
   "id": "60b4f775",
   "metadata": {},
   "outputs": [],
   "source": [
    "import pandas as pd\n",
    "import numpy as np\n",
    "import matplotlib.pyplot as plt\n",
    "from nltk.tokenize import word_tokenize\n",
    "from nltk import pos_tag\n",
    "from nltk.corpus import stopwords\n",
    "from nltk.stem import WordNetLemmatizer\n",
    "from collections import defaultdict\n",
    "from nltk.corpus import wordnet as wn\n",
    "from sklearn.feature_extraction.text import TfidfVectorizer\n",
    "from sklearn import model_selection, naive_bayes, svm\n",
    "from sklearn.metrics import accuracy_score, f1_score\n",
    "from sklearn.model_selection import cross_val_score"
   ]
  },
  {
   "cell_type": "code",
   "execution_count": 5,
   "id": "7cdbaf1d",
   "metadata": {},
   "outputs": [
    {
     "name": "stderr",
     "output_type": "stream",
     "text": [
      "[nltk_data] Downloading package averaged_perceptron_tagger to\n",
      "[nltk_data]     C:\\Users\\Imoesi\\AppData\\Roaming\\nltk_data...\n",
      "[nltk_data]   Package averaged_perceptron_tagger is already up-to-\n",
      "[nltk_data]       date!\n",
      "[nltk_data] Downloading package wordnet to\n",
      "[nltk_data]     C:\\Users\\Imoesi\\AppData\\Roaming\\nltk_data...\n",
      "[nltk_data]   Package wordnet is already up-to-date!\n",
      "[nltk_data] Downloading package punkt to\n",
      "[nltk_data]     C:\\Users\\Imoesi\\AppData\\Roaming\\nltk_data...\n",
      "[nltk_data]   Package punkt is already up-to-date!\n",
      "[nltk_data] Downloading package stopwords to\n",
      "[nltk_data]     C:\\Users\\Imoesi\\AppData\\Roaming\\nltk_data...\n",
      "[nltk_data]   Package stopwords is already up-to-date!\n"
     ]
    },
    {
     "data": {
      "text/plain": [
       "True"
      ]
     },
     "execution_count": 5,
     "metadata": {},
     "output_type": "execute_result"
    }
   ],
   "source": [
    "import nltk\n",
    "nltk.download('averaged_perceptron_tagger')\n",
    "nltk.download('wordnet')\n",
    "nltk.download('punkt')\n",
    "nltk.download('stopwords')"
   ]
  },
  {
   "cell_type": "code",
   "execution_count": 6,
   "id": "fa1364fb",
   "metadata": {},
   "outputs": [],
   "source": [
    "reddit_posts_df = pd.read_csv('combinedData.csv')\n",
    "reddit_posts_df\n",
    "\n",
    "features = ['selftext', 'title']\n",
    "X = reddit_posts_df[features]\n",
    "y = reddit_posts_df.subreddit"
   ]
  },
  {
   "cell_type": "code",
   "execution_count": 7,
   "id": "bd5c6c13",
   "metadata": {},
   "outputs": [],
   "source": [
    "tag_map = defaultdict(lambda : wn.NOUN)\n",
    "tag_map['J'] = wn.ADJ\n",
    "tag_map['V'] = wn.VERB\n",
    "tag_map['R'] = wn.ADV\n",
    "\n",
    "def clean_df(df):\n",
    "    temp_X_train = [entry.lower() for entry in df]\n",
    "    temp_X_train = [word_tokenize(entry) for entry in temp_X_train]\n",
    "    \n",
    "    df_to_return = pd.DataFrame()\n",
    "    for index,entry in enumerate(temp_X_train):\n",
    "        Final_words = []\n",
    "        word_Lemmatized = WordNetLemmatizer()\n",
    "        for word, tag in pos_tag(entry):\n",
    "            if word not in stopwords.words('english') and word.isalpha():\n",
    "                word_Final = word_Lemmatized.lemmatize(word,tag_map[tag[0]])\n",
    "                Final_words.append(word_Final)\n",
    "        df_to_return.loc[index,'data'] = str(Final_words)\n",
    "        \n",
    "    indexes_to_drop = df_to_return[df_to_return.data == '[]'].index\n",
    "    \n",
    "    return df_to_return, indexes_to_drop\n",
    "\n",
    "def merge_arrays(arr1, arr2):\n",
    "    set_to_return = set()\n",
    "    for ele in arr1:\n",
    "        set_to_return.add(ele)\n",
    "    for ele in arr2:\n",
    "        set_to_return.add(ele) \n",
    "    return set_to_return\n",
    "\n",
    "def remove_index(df, index_list):\n",
    "    for i in index_list:\n",
    "        df = df.drop(i)\n",
    "    return df"
   ]
  },
  {
   "cell_type": "markdown",
   "id": "3aa88eea",
   "metadata": {},
   "source": [
    "## Pre processing data"
   ]
  },
  {
   "cell_type": "code",
   "execution_count": 8,
   "id": "c0e6da1c",
   "metadata": {},
   "outputs": [
    {
     "name": "stderr",
     "output_type": "stream",
     "text": [
      "C:\\Users\\Imoesi\\AppData\\Local\\Programs\\Python\\Python310\\lib\\site-packages\\sklearn\\utils\\deprecation.py:87: FutureWarning: Function get_feature_names is deprecated; get_feature_names is deprecated in 1.0 and will be removed in 1.2. Please use get_feature_names_out instead.\n",
      "  warnings.warn(msg, category=FutureWarning)\n"
     ]
    },
    {
     "name": "stdout",
     "output_type": "stream",
     "text": [
      "(3337, 26212)\n"
     ]
    }
   ],
   "source": [
    "X_post_text , text_index = clean_df(X.selftext.values.astype('U'))\n",
    "X_post_title, title_index = clean_df(X.title)\n",
    "indices_to_remove_from_data = merge_arrays(text_index, title_index)\n",
    "cleaned_text_df = remove_index(X_post_text, indices_to_remove_from_data)\n",
    "cleaned_title_df = remove_index(X_post_title, indices_to_remove_from_data)\n",
    "y_df = pd.DataFrame()\n",
    "for index, data in enumerate(y):\n",
    "    y_df.loc[index,'data'] = data\n",
    "convert_dict = {'data': int}\n",
    "y_df = y_df.astype(convert_dict)\n",
    "cleaned_Y_df = remove_index(y_df, indices_to_remove_from_data)\n",
    "\n",
    "vectorizer1 = TfidfVectorizer(norm='l2', ngram_range=(1,3))\n",
    "Xtitle = vectorizer1.fit_transform(cleaned_title_df['data'])\n",
    "vectorizer2 = TfidfVectorizer(norm='l2', ngram_range=(1,3))\n",
    "Xtext = vectorizer2.fit_transform(cleaned_text_df['data'])\n",
    "\n",
    "X_title_tfidf = pd.DataFrame(Xtitle.todense(), columns=[x+'_title' for x in vectorizer1.get_feature_names()])\n",
    "print(X_title_tfidf.shape)\n",
    "X_text_tfidf = pd.DataFrame(Xtext.todense(), columns=[x+'_text' for x in vectorizer2.get_feature_names()])\n",
    "X_text_tfidf.shape\n",
    "\n",
    "tfidf_reddit_posts = pd.concat([X_title_tfidf, X_text_tfidf], axis=1)\n",
    "\n",
    "X_train1, X_test1, y_train1, y_test1 = model_selection.train_test_split(tfidf_reddit_posts,cleaned_Y_df,test_size=0.3)"
   ]
  },
  {
   "cell_type": "markdown",
   "id": "b73bd77e",
   "metadata": {},
   "source": [
    "## Model Training"
   ]
  },
  {
   "cell_type": "code",
   "execution_count": 9,
   "id": "7013e18b",
   "metadata": {},
   "outputs": [
    {
     "name": "stdout",
     "output_type": "stream",
     "text": [
      "SVM Accuracy Score ->  60.578842315369265\n"
     ]
    },
    {
     "data": {
      "text/plain": [
       "0.5948717948717949"
      ]
     },
     "execution_count": 9,
     "metadata": {},
     "output_type": "execute_result"
    }
   ],
   "source": [
    "SVM = svm.SVC(C=10, kernel='linear')\n",
    "SVM.fit(X_train1,y_train1.data)\n",
    "predictions_SVM = SVM.predict(X_test1)\n",
    "print(\"SVM Accuracy Score -> \",accuracy_score(predictions_SVM, y_test1.data)*100)\n",
    "f1_score(y_test1.data, predictions_SVM)"
   ]
  },
  {
   "cell_type": "code",
   "execution_count": 10,
   "id": "da501ef1",
   "metadata": {},
   "outputs": [
    {
     "name": "stdout",
     "output_type": "stream",
     "text": [
      "C = 0.1\n",
      "0.6725410050525898\n",
      "C = 1\n",
      "0.606053165839786\n",
      "C = 10\n",
      "0.6054206863618198\n",
      "C = 100\n",
      "0.6054206863618198\n"
     ]
    },
    {
     "data": {
      "image/png": "[encoded data removed]",
      "text/plain": [
       "<Figure size 720x504 with 1 Axes>"
      ]
     },
     "metadata": {
      "needs_background": "light"
     },
     "output_type": "display_data"
    }
   ],
   "source": [
    "C_range = [0.1, 1, 10, 100]\n",
    "mean_f1=[];std_error=[]\n",
    "for c in C_range:\n",
    "    print('C = ' + str(c))\n",
    "    SVM = svm.SVC(C=c, kernel='linear')\n",
    "    scores = cross_val_score(SVM, X_train1, y_train1.data, cv=3, scoring='f1')\n",
    "    mean_f1.append(np.array(scores).mean())\n",
    "    std_error.append(np.array(scores).std())\n",
    "    print(np.array(scores).mean())\n",
    "plt.errorbar(C_range,mean_f1,yerr=std_error)\n",
    "plt.xlabel('C', fontsize=25); plt.ylabel('F1 score', fontsize=25)\n",
    "plt.gcf().set_size_inches((10,7))\n",
    "plt.show()"
   ]
  }
 ],
 "metadata": {
  "kernelspec": {
   "display_name": "Python 3",
   "language": "python",
   "name": "python3"
  },
  "language_info": {
   "codemirror_mode": {
    "name": "ipython",
    "version": 3
   },
   "file_extension": ".py",
   "mimetype": "text/x-python",
   "name": "python",
   "nbconvert_exporter": "python",
   "pygments_lexer": "ipython3",
   "version": "3.10.0"
  }
 },
 "nbformat": 4,
 "nbformat_minor": 5
}
